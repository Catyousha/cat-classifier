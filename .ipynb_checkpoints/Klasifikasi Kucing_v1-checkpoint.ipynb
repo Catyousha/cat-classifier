{
 "cells": [
  {
   "cell_type": "code",
   "execution_count": 1,
   "id": "alpine-capital",
   "metadata": {},
   "outputs": [],
   "source": [
    "import os\n",
    "import pathlib"
   ]
  },
  {
   "cell_type": "code",
   "execution_count": 2,
   "id": "first-housing",
   "metadata": {
    "scrolled": true
   },
   "outputs": [],
   "source": [
    "import tensorflow as tf\n",
    "from tensorflow import keras\n",
    "from tensorflow.keras import layers\n",
    "from tensorflow.keras.models import Sequential\n",
    "from tensorflow.keras.preprocessing.image import ImageDataGenerator"
   ]
  },
  {
   "cell_type": "code",
   "execution_count": 4,
   "id": "helpful-tanzania",
   "metadata": {},
   "outputs": [],
   "source": [
    "import numpy as np\n",
    "import matplotlib.pyplot as plt"
   ]
  },
  {
   "cell_type": "code",
   "execution_count": 5,
   "id": "stone-approach",
   "metadata": {},
   "outputs": [],
   "source": [
    "CAT_DATASET = './CAT_DATASET'\n",
    "dataset_dir = pathlib.Path(CAT_DATASET)"
   ]
  },
  {
   "cell_type": "code",
   "execution_count": 6,
   "id": "geographic-requirement",
   "metadata": {},
   "outputs": [],
   "source": [
    "img_height = 150\n",
    "img_width = 150\n",
    "epochs = 10\n",
    "batch_size = 2048"
   ]
  },
  {
   "cell_type": "code",
   "execution_count": 7,
   "id": "prospective-meditation",
   "metadata": {},
   "outputs": [],
   "source": [
    "train_datagen = ImageDataGenerator(rescale=1./255,\n",
    "                                  shear_range=0.2,\n",
    "                                  zoom_range=0.2,\n",
    "                                  horizontal_flip=True,\n",
    "                                  validation_split=0.2)"
   ]
  },
  {
   "cell_type": "code",
   "execution_count": 8,
   "id": "authentic-earthquake",
   "metadata": {},
   "outputs": [
    {
     "name": "stdout",
     "output_type": "stream",
     "text": [
      "Found 101313 images belonging to 67 classes.\n"
     ]
    }
   ],
   "source": [
    "train_gen = train_datagen.flow_from_directory(CAT_DATASET,\n",
    "                                              target_size=(img_width, img_height),\n",
    "                                              batch_size=256,\n",
    "                                              class_mode='categorical',\n",
    "                                              subset='training')"
   ]
  },
  {
   "cell_type": "code",
   "execution_count": 9,
   "id": "fourth-burke",
   "metadata": {
    "scrolled": true
   },
   "outputs": [
    {
     "name": "stdout",
     "output_type": "stream",
     "text": [
      "Found 25294 images belonging to 67 classes.\n"
     ]
    }
   ],
   "source": [
    "val_gen = train_datagen.flow_from_directory(CAT_DATASET,\n",
    "                                              target_size=(img_width, img_height),\n",
    "                                              batch_size=256,\n",
    "                                              class_mode='categorical',\n",
    "                                              subset='validation')"
   ]
  },
  {
   "cell_type": "code",
   "execution_count": 10,
   "id": "modern-uzbekistan",
   "metadata": {
    "collapsed": true
   },
   "outputs": [
    {
     "name": "stdout",
     "output_type": "stream",
     "text": [
      "['Abyssinian', 'American Bobtail', 'American Curl', 'American Shorthair', 'American Wirehair', 'Applehead Siamese', 'Balinese', 'Bengal', 'Birman', 'Bombay', 'British Shorthair', 'Burmese', 'Burmilla', 'Calico', 'Canadian Hairless', 'Chartreux', 'Chausie', 'Chinchilla', 'Cornish Rex', 'Cymric', 'Devon Rex', 'Dilute Calico', 'Dilute Tortoiseshell', 'Domestic Long Hair', 'Domestic Medium Hair', 'Domestic Short Hair', 'Egyptian Mau', 'Exotic Shorthair', 'Extra-Toes Cat - Hemingway Polydactyl', 'Havana', 'Himalayan', 'Japanese Bobtail', 'Javanese', 'Korat', 'LaPerm', 'Maine Coon', 'Manx', 'Munchkin', 'Nebelung', 'Norwegian Forest Cat', 'Ocicat', 'Oriental Long Hair', 'Oriental Short Hair', 'Oriental Tabby', 'Persian', 'Pixiebob', 'Ragamuffin', 'Ragdoll', 'Russian Blue', 'Scottish Fold', 'Selkirk Rex', 'Siamese', 'Siberian', 'Silver', 'Singapura', 'Snowshoe', 'Somali', 'Sphynx - Hairless Cat', 'Tabby', 'Tiger', 'Tonkinese', 'Torbie', 'Tortoiseshell', 'Turkish Angora', 'Turkish Van', 'Tuxedo', 'York Chocolate']\n"
     ]
    }
   ],
   "source": [
    "num_class = train_gen.num_classes\n",
    "class_names = list(train_gen.class_indices.keys())\n",
    "print(class_names)"
   ]
  },
  {
   "cell_type": "markdown",
   "id": "becoming-given",
   "metadata": {},
   "source": [
    "### Model"
   ]
  },
  {
   "cell_type": "code",
   "execution_count": 13,
   "id": "arabic-bulgaria",
   "metadata": {
    "collapsed": true
   },
   "outputs": [
    {
     "name": "stdout",
     "output_type": "stream",
     "text": [
      "Model: \"sequential_1\"\n",
      "_________________________________________________________________\n",
      "Layer (type)                 Output Shape              Param #   \n",
      "=================================================================\n",
      "inception_resnet_v2 (Functio (None, 3, 3, 1536)        54336736  \n",
      "_________________________________________________________________\n",
      "flatten_1 (Flatten)          (None, 13824)             0         \n",
      "_________________________________________________________________\n",
      "dense_1 (Dense)              (None, 512)               7078400   \n",
      "_________________________________________________________________\n",
      "dense_2 (Dense)              (None, 128)               65664     \n",
      "_________________________________________________________________\n",
      "dense_3 (Dense)              (None, 67)                8643      \n",
      "=================================================================\n",
      "Total params: 61,489,443\n",
      "Trainable params: 7,152,707\n",
      "Non-trainable params: 54,336,736\n",
      "_________________________________________________________________\n"
     ]
    }
   ],
   "source": [
    "model_base = keras.applications.inception_resnet_v2.InceptionResNetV2(weights='imagenet', \n",
    "                                                                      include_top=False, \n",
    "                                                                      input_shape=(img_width,img_height,3))\n",
    "\n",
    "model = keras.models.Sequential()\n",
    "for layer in model_base.layers:\n",
    "    layer.trainable = False\n",
    "\n",
    "model.add(model_base)\n",
    "model.add(keras.layers.Flatten())\n",
    "model.add(keras.layers.Dense(512, activation='relu'))\n",
    "model.add(keras.layers.Dense(128, activation='relu'))\n",
    "model.add(keras.layers.Dense(67, activation='softmax'))\n",
    "model.summary()\n",
    "model.compile(optimizer='adam', loss='categorical_crossentropy', metrics=['accuracy'])"
   ]
  },
  {
   "cell_type": "code",
   "execution_count": 14,
   "id": "little-profession",
   "metadata": {
    "collapsed": true
   },
   "outputs": [
    {
     "name": "stdout",
     "output_type": "stream",
     "text": [
      "Epoch 1/10\n",
      "49/49 [==============================] - 467s 9s/step - loss: 9.3842 - accuracy: 0.2703 - val_loss: 2.6385 - val_accuracy: 0.4010\n",
      "Epoch 2/10\n",
      "49/49 [==============================] - 462s 9s/step - loss: 2.4771 - accuracy: 0.4417 - val_loss: 2.3988 - val_accuracy: 0.4580\n",
      "Epoch 3/10\n",
      "49/49 [==============================] - 468s 10s/step - loss: 2.4186 - accuracy: 0.4413 - val_loss: 2.3029 - val_accuracy: 0.4375\n",
      "Epoch 4/10\n",
      "49/49 [==============================] - 492s 10s/step - loss: 2.3007 - accuracy: 0.4558 - val_loss: 2.3614 - val_accuracy: 0.4531\n",
      "Epoch 5/10\n",
      "49/49 [==============================] - 501s 10s/step - loss: 2.3341 - accuracy: 0.4467 - val_loss: 2.2846 - val_accuracy: 0.4499\n",
      "Epoch 6/10\n",
      "49/49 [==============================] - 465s 9s/step - loss: 2.2885 - accuracy: 0.4538 - val_loss: 2.3078 - val_accuracy: 0.4489\n",
      "Epoch 7/10\n",
      "49/49 [==============================] - 494s 10s/step - loss: 2.2889 - accuracy: 0.4513 - val_loss: 2.2586 - val_accuracy: 0.4596\n",
      "Epoch 8/10\n",
      "49/49 [==============================] - 570s 12s/step - loss: 2.2826 - accuracy: 0.4460 - val_loss: 2.2157 - val_accuracy: 0.4616\n",
      "Epoch 9/10\n",
      "49/49 [==============================] - 565s 12s/step - loss: 2.2316 - accuracy: 0.4480 - val_loss: 2.2015 - val_accuracy: 0.4613\n",
      "Epoch 10/10\n",
      "49/49 [==============================] - 548s 11s/step - loss: 2.1616 - accuracy: 0.4610 - val_loss: 2.1869 - val_accuracy: 0.4567\n"
     ]
    }
   ],
   "source": [
    "history = model.fit(train_gen,\n",
    "                    steps_per_epoch = train_gen.samples // batch_size,\n",
    "                    validation_data = val_gen, \n",
    "                    validation_steps = val_gen.samples // batch_size,\n",
    "                    epochs = epochs)"
   ]
  },
  {
   "cell_type": "code",
   "execution_count": 50,
   "id": "blank-assumption",
   "metadata": {},
   "outputs": [
    {
     "data": {
      "image/png": "[encoded data removed]",
      "text/plain": [
       "<Figure size 576x576 with 2 Axes>"
      ]
     },
     "metadata": {
      "needs_background": "light"
     },
     "output_type": "display_data"
    }
   ],
   "source": [
    "acc = history.history['accuracy']\n",
    "val_acc = history.history['val_accuracy']\n",
    "\n",
    "loss = history.history['loss']\n",
    "val_loss = history.history['val_loss']\n",
    "\n",
    "epochs_range = range(epochs)\n",
    "\n",
    "plt.figure(figsize=(8, 8))\n",
    "plt.subplot(1, 2, 1)\n",
    "plt.plot(epochs_range, acc, label='Training Accuracy')\n",
    "plt.plot(epochs_range, val_acc, label='Validation Accuracy')\n",
    "plt.legend(loc='lower right')\n",
    "plt.title('Training and Validation Accuracy')\n",
    "\n",
    "plt.subplot(1, 2, 2)\n",
    "plt.plot(epochs_range, loss, label='Training Loss')\n",
    "plt.plot(epochs_range, val_loss, label='Validation Loss')\n",
    "plt.legend(loc='upper right')\n",
    "plt.title('Training and Validation Loss')\n",
    "plt.show()"
   ]
  },
  {
   "cell_type": "code",
   "execution_count": 16,
   "id": "amended-fantasy",
   "metadata": {
    "scrolled": false
   },
   "outputs": [
    {
     "name": "stdout",
     "output_type": "stream",
     "text": [
      "INFO:tensorflow:Assets written to: ./MODEL_AWAL\\assets\n"
     ]
    }
   ],
   "source": [
    "model.save('./MODEL_AWAL')"
   ]
  },
  {
   "cell_type": "code",
   "execution_count": 34,
   "id": "guilty-applicant",
   "metadata": {},
   "outputs": [],
   "source": [
    "def preprocess_input(x):\n",
    "    x /= 255.\n",
    "    x -= 0.5\n",
    "    x *= 2.\n",
    "    return x"
   ]
  },
  {
   "cell_type": "code",
   "execution_count": null,
   "id": "executive-dakota",
   "metadata": {},
   "outputs": [],
   "source": [
    "from urllib.parse import urlparse\n",
    "a = urlparse(cat)\n",
    "file_name = os.path.basename(a.path)\n",
    "\n",
    "cat = \"https://cdn-2.tstatic.net/jogja/foto/bank/images/kucing-sphynx_20151213_161613.jpg\"\n",
    "cat_path = tf.keras.utils.get_file(f'./{file_name}', origin=cat, cache_dir='./')\n",
    "img = keras.preprocessing.image.load_img(\n",
    "    cat_path, target_size=(img_height, img_width)\n",
    ")\n",
    "img_array = keras.preprocessing.image.img_to_array(img)\n",
    "img_array = tf.expand_dims(img_array, 0) # Create a batch\n",
    "\n",
    "img_array = preprocess_input(img_array)\n",
    "\n",
    "predictions = model.predict(img_array)\n",
    "score = tf.nn.softmax(predictions[0])\n",
    "print(class_names[np.argmax(score)], round(100 * np.max(score)), \"%\")"
   ]
  },
  {
   "cell_type": "code",
   "execution_count": null,
   "id": "settled-insight",
   "metadata": {},
   "outputs": [],
   "source": [
    "print(predictions)"
   ]
  }
 ],
 "metadata": {
  "kernelspec": {
   "display_name": "Python 3",
   "language": "python",
   "name": "python3"
  },
  "language_info": {
   "codemirror_mode": {
    "name": "ipython",
    "version": 3
   },
   "file_extension": ".py",
   "mimetype": "text/x-python",
   "name": "python",
   "nbconvert_exporter": "python",
   "pygments_lexer": "ipython3",
   "version": "3.8.7"
  }
 },
 "nbformat": 4,
 "nbformat_minor": 5
}
