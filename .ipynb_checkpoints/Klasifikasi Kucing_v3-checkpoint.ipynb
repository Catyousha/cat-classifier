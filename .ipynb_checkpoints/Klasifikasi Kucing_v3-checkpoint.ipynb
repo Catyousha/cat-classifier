{
 "cells": [
  {
   "cell_type": "code",
   "execution_count": 1,
   "id": "alpine-capital",
   "metadata": {},
   "outputs": [],
   "source": [
    "import os\n",
    "import pathlib"
   ]
  },
  {
   "cell_type": "code",
   "execution_count": 2,
   "id": "first-housing",
   "metadata": {
    "scrolled": true
   },
   "outputs": [],
   "source": [
    "import tensorflow as tf\n",
    "from tensorflow import keras\n",
    "from tensorflow.keras import layers\n",
    "from tensorflow.keras.models import Sequential\n",
    "from tensorflow.keras.preprocessing.image import ImageDataGenerator"
   ]
  },
  {
   "cell_type": "code",
   "execution_count": 3,
   "id": "helpful-tanzania",
   "metadata": {},
   "outputs": [],
   "source": [
    "import numpy as np\n",
    "import matplotlib.pyplot as plt"
   ]
  },
  {
   "cell_type": "code",
   "execution_count": 4,
   "id": "stone-approach",
   "metadata": {},
   "outputs": [],
   "source": [
    "CAT_DATASET = './CAT_DATASET_v2'\n",
    "dataset_dir = pathlib.Path(CAT_DATASET)"
   ]
  },
  {
   "cell_type": "code",
   "execution_count": 5,
   "id": "geographic-requirement",
   "metadata": {},
   "outputs": [],
   "source": [
    "img_height = 331\n",
    "img_width = 331\n",
    "epochs = 10\n",
    "batch_size = 4096"
   ]
  },
  {
   "cell_type": "code",
   "execution_count": 6,
   "id": "prospective-meditation",
   "metadata": {},
   "outputs": [],
   "source": [
    "train_datagen = ImageDataGenerator(rescale=1./255,\n",
    "                                  shear_range=0.2,\n",
    "                                  zoom_range=0.2,\n",
    "                                  horizontal_flip=True,\n",
    "                                  validation_split=0.2)"
   ]
  },
  {
   "cell_type": "code",
   "execution_count": 7,
   "id": "authentic-earthquake",
   "metadata": {},
   "outputs": [
    {
     "name": "stdout",
     "output_type": "stream",
     "text": [
      "Found 2292 images belonging to 13 classes.\n"
     ]
    }
   ],
   "source": [
    "train_gen = train_datagen.flow_from_directory(CAT_DATASET,\n",
    "                                              target_size=(img_width, img_height),\n",
    "                                              batch_size=256,\n",
    "                                              class_mode='categorical',\n",
    "                                              subset='training')"
   ]
  },
  {
   "cell_type": "code",
   "execution_count": 8,
   "id": "fourth-burke",
   "metadata": {
    "scrolled": true
   },
   "outputs": [
    {
     "name": "stdout",
     "output_type": "stream",
     "text": [
      "Found 571 images belonging to 13 classes.\n"
     ]
    }
   ],
   "source": [
    "val_gen = train_datagen.flow_from_directory(CAT_DATASET,\n",
    "                                              target_size=(img_width, img_height),\n",
    "                                              batch_size=256,\n",
    "                                              class_mode='categorical',\n",
    "                                              subset='validation')"
   ]
  },
  {
   "cell_type": "code",
   "execution_count": 9,
   "id": "modern-uzbekistan",
   "metadata": {},
   "outputs": [
    {
     "name": "stdout",
     "output_type": "stream",
     "text": [
      "['Abyssinian', 'Bengal', 'Birman', 'Bombay', 'British Shorthair', 'Domestic Short-Haired', 'Egyptian Mau', 'Maine Coon', 'Persian', 'Ragdoll', 'Russian Blue', 'Siamese', 'Sphynx']\n"
     ]
    }
   ],
   "source": [
    "num_class = train_gen.num_classes\n",
    "class_names = list(train_gen.class_indices.keys())\n",
    "print(class_names)"
   ]
  },
  {
   "cell_type": "markdown",
   "id": "becoming-given",
   "metadata": {},
   "source": [
    "### Model"
   ]
  },
  {
   "cell_type": "code",
   "execution_count": 10,
   "id": "arabic-bulgaria",
   "metadata": {},
   "outputs": [
    {
     "name": "stdout",
     "output_type": "stream",
     "text": [
      "Downloading data from https://storage.googleapis.com/tensorflow/keras-applications/nasnet/NASNet-large-no-top.h5\n",
      "343613440/343610240 [==============================] - 286s 1us/step\n",
      "Model: \"sequential\"\n",
      "_________________________________________________________________\n",
      "Layer (type)                 Output Shape              Param #   \n",
      "=================================================================\n",
      "NASNet (Functional)          (None, 11, 11, 4032)      84916818  \n",
      "_________________________________________________________________\n",
      "flatten (Flatten)            (None, 487872)            0         \n",
      "_________________________________________________________________\n",
      "dense (Dense)                (None, 512)               249790976 \n",
      "_________________________________________________________________\n",
      "dense_1 (Dense)              (None, 128)               65664     \n",
      "_________________________________________________________________\n",
      "dense_2 (Dense)              (None, 64)                8256      \n",
      "_________________________________________________________________\n",
      "dense_3 (Dense)              (None, 32)                2080      \n",
      "_________________________________________________________________\n",
      "dense_4 (Dense)              (None, 13)                429       \n",
      "=================================================================\n",
      "Total params: 334,784,223\n",
      "Trainable params: 249,867,405\n",
      "Non-trainable params: 84,916,818\n",
      "_________________________________________________________________\n"
     ]
    }
   ],
   "source": [
    "model_base = keras.applications.NASNetLarge(input_shape=(img_width,img_height,3),\n",
    "                                            include_top=False,\n",
    "                                            weights='imagenet')\n",
    "\n",
    "model = keras.models.Sequential()\n",
    "for layer in model_base.layers:\n",
    "    layer.trainable = False\n",
    "\n",
    "model.add(model_base)\n",
    "model.add(keras.layers.Flatten())\n",
    "model.add(keras.layers.Dense(512, activation='relu'))\n",
    "model.add(keras.layers.Dense(128, activation='relu'))\n",
    "model.add(keras.layers.Dense(64, activation='relu'))\n",
    "model.add(keras.layers.Dense(32, activation='relu'))\n",
    "model.add(keras.layers.Dense(13, activation='softmax'))\n",
    "model.summary()\n",
    "model.compile(optimizer='adam', loss='categorical_crossentropy', metrics=['accuracy'])"
   ]
  },
  {
   "cell_type": "code",
   "execution_count": 11,
   "id": "little-profession",
   "metadata": {},
   "outputs": [
    {
     "name": "stdout",
     "output_type": "stream",
     "text": [
      "Epoch 1/10\n",
      "9/9 [==============================] - 1954s 217s/step - loss: 10.7998 - accuracy: 0.1967 - val_loss: 6.9886 - val_accuracy: 0.4168\n",
      "Epoch 2/10\n",
      "9/9 [==============================] - 1869s 218s/step - loss: 5.8767 - accuracy: 0.5018 - val_loss: 2.5834 - val_accuracy: 0.6480\n",
      "Epoch 3/10\n",
      "9/9 [==============================] - 1961s 225s/step - loss: 2.1209 - accuracy: 0.6961 - val_loss: 1.8047 - val_accuracy: 0.7023\n",
      "Epoch 4/10\n",
      "9/9 [==============================] - 2024s 238s/step - loss: 1.1007 - accuracy: 0.8012 - val_loss: 1.2771 - val_accuracy: 0.7338\n",
      "Epoch 5/10\n",
      "9/9 [==============================] - 1877s 220s/step - loss: 0.5238 - accuracy: 0.8824 - val_loss: 1.1566 - val_accuracy: 0.7898\n",
      "Epoch 6/10\n",
      "9/9 [==============================] - 1873s 213s/step - loss: 0.4170 - accuracy: 0.8952 - val_loss: 1.0119 - val_accuracy: 0.7776\n",
      "Epoch 7/10\n",
      "9/9 [==============================] - 1982s 230s/step - loss: 0.2729 - accuracy: 0.9278 - val_loss: 0.9008 - val_accuracy: 0.8319\n",
      "Epoch 8/10\n",
      "9/9 [==============================] - 1919s 221s/step - loss: 0.2060 - accuracy: 0.9450 - val_loss: 0.7633 - val_accuracy: 0.8039\n",
      "Epoch 9/10\n",
      "9/9 [==============================] - 1946s 226s/step - loss: 0.1684 - accuracy: 0.9542 - val_loss: 0.7136 - val_accuracy: 0.8389\n",
      "Epoch 10/10\n",
      "9/9 [==============================] - 2040s 238s/step - loss: 0.0919 - accuracy: 0.9698 - val_loss: 0.8935 - val_accuracy: 0.8319\n"
     ]
    }
   ],
   "source": [
    "history = model.fit(train_gen,\n",
    "                    validation_data = val_gen, \n",
    "                    epochs = epochs)"
   ]
  },
  {
   "cell_type": "code",
   "execution_count": 12,
   "id": "blank-assumption",
   "metadata": {},
   "outputs": [
    {
     "data": {
      "image/png": "[encoded data removed]",
      "text/plain": [
       "<Figure size 576x576 with 2 Axes>"
      ]
     },
     "metadata": {
      "needs_background": "light"
     },
     "output_type": "display_data"
    }
   ],
   "source": [
    "acc = history.history['accuracy']\n",
    "val_acc = history.history['val_accuracy']\n",
    "\n",
    "loss = history.history['loss']\n",
    "val_loss = history.history['val_loss']\n",
    "\n",
    "epochs_range = range(epochs)\n",
    "\n",
    "plt.figure(figsize=(8, 8))\n",
    "plt.subplot(1, 2, 1)\n",
    "plt.plot(epochs_range, acc, label='Training Accuracy')\n",
    "plt.plot(epochs_range, val_acc, label='Validation Accuracy')\n",
    "plt.legend(loc='lower right')\n",
    "plt.title('Training and Validation Accuracy')\n",
    "\n",
    "plt.subplot(1, 2, 2)\n",
    "plt.plot(epochs_range, loss, label='Training Loss')\n",
    "plt.plot(epochs_range, val_loss, label='Validation Loss')\n",
    "plt.legend(loc='upper right')\n",
    "plt.title('Training and Validation Loss')\n",
    "plt.show()"
   ]
  },
  {
   "cell_type": "code",
   "execution_count": 28,
   "id": "amended-fantasy",
   "metadata": {
    "scrolled": true
   },
   "outputs": [
    {
     "name": "stdout",
     "output_type": "stream",
     "text": [
      "INFO:tensorflow:Assets written to: ./MODEL_V2\\assets\n"
     ]
    }
   ],
   "source": [
    "model.save('./MODEL_V2')"
   ]
  },
  {
   "cell_type": "code",
   "execution_count": 18,
   "id": "guilty-applicant",
   "metadata": {},
   "outputs": [],
   "source": [
    "def preprocess_input(x):\n",
    "    x /= 255.\n",
    "    x -= 0.5\n",
    "    x *= 2.\n",
    "    return x"
   ]
  },
  {
   "cell_type": "code",
   "execution_count": 36,
   "id": "executive-dakota",
   "metadata": {},
   "outputs": [
    {
     "name": "stdout",
     "output_type": "stream",
     "text": [
      "Ragdoll 11 %\n"
     ]
    }
   ],
   "source": [
    "from urllib.parse import urlparse\n",
    "url_cat_picture = \"https://www.catster.com/wp-content/uploads/2018/01/Ragdoll-cat-on-blue-backdrop-.jpg\"\n",
    "a = urlparse(url_cat_picture)\n",
    "file_name = os.path.basename(a.path)\n",
    "\n",
    "cat_path = tf.keras.utils.get_file(f'./{file_name}', origin=cat, cache_dir='./')\n",
    "img = keras.preprocessing.image.load_img(\n",
    "    cat_path, target_size=(img_height, img_width)\n",
    ")\n",
    "img_array = keras.preprocessing.image.img_to_array(img)\n",
    "img_array = tf.expand_dims(img_array, 0) # Create a batch\n",
    "\n",
    "img_array = preprocess_input(img_array)\n",
    "\n",
    "predictions = model.predict(img_array)\n",
    "score = tf.nn.softmax(predictions[0])\n",
    "print(class_names[np.argmax(score)], round(100 * np.max(score)), \"%\")"
   ]
  },
  {
   "cell_type": "code",
   "execution_count": 32,
   "id": "settled-insight",
   "metadata": {},
   "outputs": [
    {
     "name": "stdout",
     "output_type": "stream",
     "text": [
      "[[9.1345772e-02 7.7358177e-03 4.1163635e-02 1.5323552e-03 6.6347755e-05\n",
      "  6.2639388e-04 3.5329523e-07 1.2407113e-01 1.7381179e-06 4.7075883e-01\n",
      "  4.1288312e-04 2.3978107e-01 2.2503600e-02]]\n"
     ]
    }
   ],
   "source": [
    "print(predictions)"
   ]
  }
 ],
 "metadata": {
  "kernelspec": {
   "display_name": "Python 3",
   "language": "python",
   "name": "python3"
  },
  "language_info": {
   "codemirror_mode": {
    "name": "ipython",
    "version": 3
   },
   "file_extension": ".py",
   "mimetype": "text/x-python",
   "name": "python",
   "nbconvert_exporter": "python",
   "pygments_lexer": "ipython3",
   "version": "3.8.7"
  }
 },
 "nbformat": 4,
 "nbformat_minor": 5
}
