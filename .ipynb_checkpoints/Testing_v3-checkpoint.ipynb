{
 "cells": [
  {
   "cell_type": "code",
   "execution_count": 1,
   "id": "appreciated-howard",
   "metadata": {},
   "outputs": [],
   "source": [
    "import os\n",
    "import pathlib\n",
    "import tensorflow as tf\n",
    "from tensorflow import keras\n",
    "from tensorflow.keras import layers\n",
    "from tensorflow.keras.models import Sequential\n",
    "from tensorflow.keras.preprocessing.image import ImageDataGenerator\n",
    "import numpy as np\n",
    "import matplotlib.pyplot as plt\n",
    "from sklearn.preprocessing import LabelEncoder"
   ]
  },
  {
   "cell_type": "code",
   "execution_count": 2,
   "id": "direct-vanilla",
   "metadata": {},
   "outputs": [],
   "source": [
    "def preprocess_input(x):\n",
    "    x /= 255.\n",
    "    x -= 0.5\n",
    "    x *= 2.\n",
    "    return x"
   ]
  },
  {
   "cell_type": "code",
   "execution_count": 3,
   "id": "final-keeping",
   "metadata": {},
   "outputs": [],
   "source": [
    "model = keras.models.load_model(\"./MODEL_V2\")"
   ]
  },
  {
   "cell_type": "code",
   "execution_count": 4,
   "id": "adolescent-lover",
   "metadata": {},
   "outputs": [],
   "source": [
    "img_height = 331\n",
    "img_width = 331"
   ]
  },
  {
   "cell_type": "code",
   "execution_count": 5,
   "id": "social-disability",
   "metadata": {},
   "outputs": [],
   "source": [
    "class_names = ['Abyssinian', 'Bengal', 'Birman', 'Bombay', 'British Shorthair', 'Domestic Short-Haired', 'Egyptian Mau', 'Maine Coon', 'Persian', 'Ragdoll', 'Russian Blue', 'Siamese', 'Sphynx']"
   ]
  },
  {
   "cell_type": "code",
   "execution_count": 6,
   "id": "neural-channels",
   "metadata": {},
   "outputs": [
    {
     "name": "stdout",
     "output_type": "stream",
     "text": [
      "Sphynx 184.68725681304932 %\n"
     ]
    }
   ],
   "source": [
    "from urllib.parse import urlparse\n",
    "cat = \"https://images2.minutemediacdn.com/image/upload/c_crop,h_1415,w_2103,x_8,y_0/v1612372034/shape/mentalfloss/641669-gettyimages-1182725559.jpg\"\n",
    "a = urlparse(cat)\n",
    "file_name = os.path.basename(a.path)\n",
    "\n",
    "cat_path = tf.keras.utils.get_file(f'./{file_name}', origin=cat, cache_dir='./')\n",
    "img = keras.preprocessing.image.load_img(\n",
    "    cat_path, target_size=(img_height, img_width)\n",
    ")\n",
    "img_array = keras.preprocessing.image.img_to_array(img)\n",
    "img_array = tf.expand_dims(img_array, 0) # Create a batch\n",
    "\n",
    "img_array = preprocess_input(img_array)\n",
    "\n",
    "predictions = model.predict(img_array)\n",
    "score = tf.nn.softmax(predictions[0])\n",
    "print(class_names[np.argmax(score)], 1000 * (np.max(score)), \"%\")"
   ]
  }
 ],
 "metadata": {
  "kernelspec": {
   "display_name": "Python 3",
   "language": "python",
   "name": "python3"
  },
  "language_info": {
   "codemirror_mode": {
    "name": "ipython",
    "version": 3
   },
   "file_extension": ".py",
   "mimetype": "text/x-python",
   "name": "python",
   "nbconvert_exporter": "python",
   "pygments_lexer": "ipython3",
   "version": "3.8.7"
  }
 },
 "nbformat": 4,
 "nbformat_minor": 5
}
