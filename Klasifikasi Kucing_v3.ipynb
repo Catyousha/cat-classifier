{
 "cells": [
  {
   "cell_type": "code",
   "execution_count": 1,
   "id": "alpine-capital",
   "metadata": {},
   "outputs": [],
   "source": [
    "import os\n",
    "import pathlib"
   ]
  },
  {
   "cell_type": "code",
   "execution_count": 2,
   "id": "first-housing",
   "metadata": {
    "scrolled": true
   },
   "outputs": [],
   "source": [
    "import tensorflow as tf\n",
    "from tensorflow import keras\n",
    "from tensorflow.keras import layers\n",
    "from tensorflow.keras.models import Sequential\n",
    "from tensorflow.keras.preprocessing.image import ImageDataGenerator"
   ]
  },
  {
   "cell_type": "code",
   "execution_count": 3,
   "id": "helpful-tanzania",
   "metadata": {},
   "outputs": [],
   "source": [
    "import numpy as np\n",
    "import matplotlib.pyplot as plt"
   ]
  },
  {
   "cell_type": "code",
   "execution_count": 4,
   "id": "stone-approach",
   "metadata": {},
   "outputs": [],
   "source": [
    "CAT_DATASET = './CAT_DATASET_v2'\n",
    "dataset_dir = pathlib.Path(CAT_DATASET)"
   ]
  },
  {
   "cell_type": "code",
   "execution_count": 5,
   "id": "geographic-requirement",
   "metadata": {},
   "outputs": [],
   "source": [
    "img_height = 331\n",
    "img_width = 331\n",
    "epochs = 10\n",
    "batch_size = 4096"
   ]
  },
  {
   "cell_type": "code",
   "execution_count": 6,
   "id": "prospective-meditation",
   "metadata": {},
   "outputs": [],
   "source": [
    "train_datagen = ImageDataGenerator(rescale=1./255,\n",
    "                                  shear_range=0.2,\n",
    "                                  zoom_range=0.2,\n",
    "                                  horizontal_flip=True,\n",
    "                                  validation_split=0.2)"
   ]
  },
  {
   "cell_type": "code",
   "execution_count": 7,
   "id": "authentic-earthquake",
   "metadata": {},
   "outputs": [
    {
     "name": "stdout",
     "output_type": "stream",
     "text": [
      "Found 2292 images belonging to 13 classes.\n"
     ]
    }
   ],
   "source": [
    "train_gen = train_datagen.flow_from_directory(CAT_DATASET,\n",
    "                                              target_size=(img_width, img_height),\n",
    "                                              batch_size=256,\n",
    "                                              class_mode='categorical',\n",
    "                                              subset='training')"
   ]
  },
  {
   "cell_type": "code",
   "execution_count": 8,
   "id": "fourth-burke",
   "metadata": {
    "scrolled": true
   },
   "outputs": [
    {
     "name": "stdout",
     "output_type": "stream",
     "text": [
      "Found 571 images belonging to 13 classes.\n"
     ]
    }
   ],
   "source": [
    "val_gen = train_datagen.flow_from_directory(CAT_DATASET,\n",
    "                                              target_size=(img_width, img_height),\n",
    "                                              batch_size=256,\n",
    "                                              class_mode='categorical',\n",
    "                                              subset='validation')"
   ]
  },
  {
   "cell_type": "code",
   "execution_count": 9,
   "id": "modern-uzbekistan",
   "metadata": {},
   "outputs": [
    {
     "name": "stdout",
     "output_type": "stream",
     "text": [
      "['Abyssinian', 'Bengal', 'Birman', 'Bombay', 'British Shorthair', 'Domestic Short-Haired', 'Egyptian Mau', 'Maine Coon', 'Persian', 'Ragdoll', 'Russian Blue', 'Siamese', 'Sphynx']\n"
     ]
    }
   ],
   "source": [
    "num_class = train_gen.num_classes\n",
    "class_names = list(train_gen.class_indices.keys())\n",
    "print(class_names)"
   ]
  },
  {
   "cell_type": "markdown",
   "id": "becoming-given",
   "metadata": {},
   "source": [
    "### Model"
   ]
  },
  {
   "cell_type": "code",
   "execution_count": 10,
   "id": "arabic-bulgaria",
   "metadata": {},
   "outputs": [
    {
     "name": "stdout",
     "output_type": "stream",
     "text": [
      "Model: \"sequential\"\n",
      "_________________________________________________________________\n",
      "Layer (type)                 Output Shape              Param #   \n",
      "=================================================================\n",
      "inception_resnet_v2 (Functio (None, 9, 9, 1536)        54336736  \n",
      "_________________________________________________________________\n",
      "flatten (Flatten)            (None, 124416)            0         \n",
      "_________________________________________________________________\n",
      "dense (Dense)                (None, 512)               63701504  \n",
      "_________________________________________________________________\n",
      "dense_1 (Dense)              (None, 128)               65664     \n",
      "_________________________________________________________________\n",
      "dense_2 (Dense)              (None, 64)                8256      \n",
      "_________________________________________________________________\n",
      "dense_3 (Dense)              (None, 13)                845       \n",
      "=================================================================\n",
      "Total params: 118,113,005\n",
      "Trainable params: 63,776,269\n",
      "Non-trainable params: 54,336,736\n",
      "_________________________________________________________________\n"
     ]
    }
   ],
   "source": [
    "model_base = keras.applications.InceptionResNetV2(input_shape=(img_width,img_height,3),\n",
    "                                            include_top=False,\n",
    "                                            weights='imagenet')\n",
    "\n",
    "model = keras.models.Sequential()\n",
    "for layer in model_base.layers:\n",
    "    layer.trainable = False\n",
    "\n",
    "model.add(model_base)\n",
    "model.add(keras.layers.Flatten())\n",
    "model.add(keras.layers.Dense(512, activation='relu'))\n",
    "model.add(keras.layers.Dense(128, activation='relu'))\n",
    "model.add(keras.layers.Dense(64, activation='relu'))\n",
    "model.add(keras.layers.Dense(13, activation='softmax'))\n",
    "model.summary()\n",
    "model.compile(optimizer='adam', loss='categorical_crossentropy', metrics=['accuracy'])"
   ]
  },
  {
   "cell_type": "code",
   "execution_count": 11,
   "id": "little-profession",
   "metadata": {
    "scrolled": false
   },
   "outputs": [
    {
     "name": "stdout",
     "output_type": "stream",
     "text": [
      "Epoch 1/10\n",
      "9/9 [==============================] - 659s 74s/step - loss: 19.5732 - accuracy: 0.1141 - val_loss: 12.5781 - val_accuracy: 0.3222\n",
      "Epoch 2/10\n",
      "9/9 [==============================] - 693s 78s/step - loss: 9.4684 - accuracy: 0.3092 - val_loss: 3.0408 - val_accuracy: 0.4974\n",
      "Epoch 3/10\n",
      "9/9 [==============================] - 669s 75s/step - loss: 2.7267 - accuracy: 0.5160 - val_loss: 1.6456 - val_accuracy: 0.6462\n",
      "Epoch 4/10\n",
      "9/9 [==============================] - 681s 76s/step - loss: 1.5120 - accuracy: 0.6839 - val_loss: 0.9308 - val_accuracy: 0.7531\n",
      "Epoch 5/10\n",
      "9/9 [==============================] - 687s 77s/step - loss: 0.8929 - accuracy: 0.7620 - val_loss: 0.6440 - val_accuracy: 0.7986\n",
      "Epoch 6/10\n",
      "9/9 [==============================] - 631s 71s/step - loss: 0.5880 - accuracy: 0.8200 - val_loss: 0.6622 - val_accuracy: 0.7951\n",
      "Epoch 7/10\n",
      "9/9 [==============================] - 642s 73s/step - loss: 0.4136 - accuracy: 0.8678 - val_loss: 0.5357 - val_accuracy: 0.8389\n",
      "Epoch 8/10\n",
      "9/9 [==============================] - 651s 73s/step - loss: 0.3127 - accuracy: 0.9016 - val_loss: 0.5504 - val_accuracy: 0.8056\n",
      "Epoch 9/10\n",
      "9/9 [==============================] - 652s 74s/step - loss: 0.2969 - accuracy: 0.9040 - val_loss: 0.5741 - val_accuracy: 0.8196\n",
      "Epoch 10/10\n",
      "9/9 [==============================] - 635s 72s/step - loss: 0.2294 - accuracy: 0.9277 - val_loss: 0.5189 - val_accuracy: 0.8406\n"
     ]
    }
   ],
   "source": [
    "history = model.fit(train_gen,\n",
    "                    validation_data = val_gen, \n",
    "                    epochs = epochs)"
   ]
  },
  {
   "cell_type": "code",
   "execution_count": 12,
   "id": "blank-assumption",
   "metadata": {},
   "outputs": [
    {
     "data": {
      "image/png": "[encoded data removed]",
      "text/plain": [
       "<Figure size 576x576 with 2 Axes>"
      ]
     },
     "metadata": {
      "needs_background": "light"
     },
     "output_type": "display_data"
    }
   ],
   "source": [
    "acc = history.history['accuracy']\n",
    "val_acc = history.history['val_accuracy']\n",
    "\n",
    "loss = history.history['loss']\n",
    "val_loss = history.history['val_loss']\n",
    "\n",
    "epochs_range = range(epochs)\n",
    "\n",
    "plt.figure(figsize=(8, 8))\n",
    "plt.subplot(1, 2, 1)\n",
    "plt.plot(epochs_range, acc, label='Training Accuracy')\n",
    "plt.plot(epochs_range, val_acc, label='Validation Accuracy')\n",
    "plt.legend(loc='lower right')\n",
    "plt.title('Training and Validation Accuracy')\n",
    "\n",
    "plt.subplot(1, 2, 2)\n",
    "plt.plot(epochs_range, loss, label='Training Loss')\n",
    "plt.plot(epochs_range, val_loss, label='Validation Loss')\n",
    "plt.legend(loc='upper right')\n",
    "plt.title('Training and Validation Loss')\n",
    "plt.show()"
   ]
  },
  {
   "cell_type": "code",
   "execution_count": 13,
   "id": "amended-fantasy",
   "metadata": {
    "scrolled": true
   },
   "outputs": [],
   "source": [
    "model.save('./MODEL_V3.h5', include_optimizer=False)"
   ]
  },
  {
   "cell_type": "code",
   "execution_count": 14,
   "id": "guilty-applicant",
   "metadata": {},
   "outputs": [],
   "source": [
    "def preprocess_input(x):\n",
    "    x /= 255.\n",
    "    x -= 0.5\n",
    "    x *= 2.\n",
    "    return x"
   ]
  },
  {
   "cell_type": "code",
   "execution_count": 16,
   "id": "executive-dakota",
   "metadata": {},
   "outputs": [
    {
     "name": "stdout",
     "output_type": "stream",
     "text": [
      "Downloading data from https://www.catster.com/wp-content/uploads/2018/01/Ragdoll-cat-on-blue-backdrop-.jpg\n",
      "172032/165231 [===============================] - 1s 3us/step\n",
      "Ragdoll 18 %\n"
     ]
    }
   ],
   "source": [
    "from urllib.parse import urlparse\n",
    "url_cat_picture = \"https://www.catster.com/wp-content/uploads/2018/01/Ragdoll-cat-on-blue-backdrop-.jpg\"\n",
    "a = urlparse(url_cat_picture)\n",
    "file_name = os.path.basename(a.path)\n",
    "\n",
    "cat_path = tf.keras.utils.get_file(f'./{file_name}', origin=url_cat_picture, cache_dir='./')\n",
    "img = keras.preprocessing.image.load_img(\n",
    "    cat_path, target_size=(img_height, img_width)\n",
    ")\n",
    "img_array = keras.preprocessing.image.img_to_array(img)\n",
    "img_array = tf.expand_dims(img_array, 0) # Create a batch\n",
    "\n",
    "img_array = preprocess_input(img_array)\n",
    "\n",
    "predictions = model.predict(img_array)\n",
    "score = tf.nn.softmax(predictions[0])\n",
    "print(class_names[np.argmax(score)], round(100 * np.max(score)), \"%\")"
   ]
  },
  {
   "cell_type": "code",
   "execution_count": null,
   "id": "settled-insight",
   "metadata": {},
   "outputs": [],
   "source": [
    "print(predictions)"
   ]
  }
 ],
 "metadata": {
  "kernelspec": {
   "display_name": "Python 3",
   "language": "python",
   "name": "python3"
  },
  "language_info": {
   "codemirror_mode": {
    "name": "ipython",
    "version": 3
   },
   "file_extension": ".py",
   "mimetype": "text/x-python",
   "name": "python",
   "nbconvert_exporter": "python",
   "pygments_lexer": "ipython3",
   "version": "3.8.7"
  }
 },
 "nbformat": 4,
 "nbformat_minor": 5
}
